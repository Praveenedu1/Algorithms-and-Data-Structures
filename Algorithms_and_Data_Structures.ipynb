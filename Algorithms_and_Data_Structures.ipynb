{
  "nbformat": 4,
  "nbformat_minor": 0,
  "metadata": {
    "colab": {
      "provenance": []
    },
    "kernelspec": {
      "name": "python3",
      "display_name": "Python 3"
    },
    "language_info": {
      "name": "python"
    }
  },
  "cells": [
    {
      "cell_type": "code",
      "execution_count": 1,
      "metadata": {
        "colab": {
          "base_uri": "https://localhost:8080/"
        },
        "id": "6JO2yIz4hSEk",
        "outputId": "b2da3129-8579-41d3-c6a3-5592d9ff070d"
      },
      "outputs": [
        {
          "output_type": "stream",
          "name": "stdout",
          "text": [
            "\n",
            "Dataset: Sorted\n",
            "merge_sort: 0.002639 seconds\n",
            "quick_sort: 0.002017 seconds\n",
            "\n",
            "Dataset: Reverse Sorted\n",
            "merge_sort: 0.002579 seconds\n",
            "quick_sort: 0.002107 seconds\n",
            "\n",
            "Dataset: Random\n",
            "merge_sort: 0.007048 seconds\n",
            "quick_sort: 0.003645 seconds\n"
          ]
        }
      ],
      "source": [
        "import time\n",
        "import random\n",
        "# Merging the Sort Implementation\n",
        "def merge_sort(arr):\n",
        "    if len(arr) > 1:\n",
        "        mid = len(arr) // 2\n",
        "        L = arr[:mid]\n",
        "        R = arr[mid:]\n",
        "\n",
        "        merge_sort(L)\n",
        "        merge_sort(R)\n",
        "\n",
        "        i = j = k = 0\n",
        "        while i < len(L) and j < len(R):\n",
        "            if L[i] < R[j]:\n",
        "                arr[k] = L[i]\n",
        "                i += 1\n",
        "            else:\n",
        "                arr[k] = R[j]\n",
        "                j += 1\n",
        "            k += 1\n",
        "\n",
        "        while i < len(L):\n",
        "            arr[k] = L[i]\n",
        "            i += 1\n",
        "            k += 1\n",
        "\n",
        "        while j < len(R):\n",
        "            arr[k] = R[j]\n",
        "            j += 1\n",
        "            k += 1\n",
        "# Quick Sort Implementation\n",
        "def quick_sort(arr):\n",
        "    if len(arr) <= 1:\n",
        "        return arr\n",
        "    pivot = arr[len(arr) // 2]\n",
        "    left = [x for x in arr if x < pivot]\n",
        "    middle = [x for x in arr if x == pivot]\n",
        "    right = [x for x in arr if x > pivot]\n",
        "    return quick_sort(left) + middle + quick_sort(right)\n",
        "# Testing Performance\n",
        "def test_algorithms():\n",
        "    datasets = {\n",
        "        \"Sorted\": list(range(1000)),\n",
        "        \"Reverse Sorted\": list(range(1000, 0, -1)),\n",
        "        \"Random\": [random.randint(0, 1000) for _ in range(1000)]\n",
        "    }\n",
        "\n",
        "    for name, data in datasets.items():\n",
        "        print(f\"\\nDataset: {name}\")\n",
        "\n",
        "        for sort_func in [merge_sort, quick_sort]:\n",
        "            test_data = data[:]\n",
        "            start_time = time.time()\n",
        "            sort_func(test_data)\n",
        "            elapsed_time = time.time() - start_time\n",
        "\n",
        "            print(f\"{sort_func.__name__}: {elapsed_time:.6f} seconds\")\n",
        "\n",
        "if __name__ == \"__main__\":\n",
        "    test_algorithms()"
      ]
    },
    {
      "cell_type": "code",
      "source": [],
      "metadata": {
        "id": "oEqHifx1hYA3"
      },
      "execution_count": null,
      "outputs": []
    }
  ]
}